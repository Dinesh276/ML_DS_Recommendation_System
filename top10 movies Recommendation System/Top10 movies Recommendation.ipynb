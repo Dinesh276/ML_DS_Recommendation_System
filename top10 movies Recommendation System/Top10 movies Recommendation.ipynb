{
 "cells": [
  {
   "cell_type": "markdown",
   "metadata": {},
   "source": [
    "## Content\n",
    "#### Top 10 Movies according to their Ratings and number of votes higher than 1000.\n",
    "#### IMDB rating method using Average weighted rating formula.\n",
    "#### Top 10 Movies according to their Average weighted Ratings.\n",
    "#### Top 10 Movies according to their Popularity.\n",
    "#### Top 10 Movies according to Equal weightage to rating and popularity."
   ]
  },
  {
   "cell_type": "markdown",
   "metadata": {},
   "source": [
    "# Importing Libraries and Dataset"
   ]
  },
  {
   "cell_type": "code",
   "execution_count": 1,
   "metadata": {
    "ExecuteTime": {
     "end_time": "2021-04-04T15:05:10.620461Z",
     "start_time": "2021-04-04T15:04:43.171320Z"
    }
   },
   "outputs": [],
   "source": [
    "import numpy as np\n",
    "import pandas as pd\n",
    "import matplotlib.pyplot as plt\n",
    "import seaborn as sns\n"
   ]
  },
  {
   "cell_type": "code",
   "execution_count": 2,
   "metadata": {
    "ExecuteTime": {
     "end_time": "2021-04-04T15:05:10.948592Z",
     "start_time": "2021-04-04T15:05:10.620461Z"
    }
   },
   "outputs": [],
   "source": [
    "movies=pd.read_csv('Top Rated Movie Database.csv')"
   ]
  },
  {
   "cell_type": "markdown",
   "metadata": {},
   "source": [
    "# DataSet Inspection"
   ]
  },
  {
   "cell_type": "code",
   "execution_count": 3,
   "metadata": {
    "ExecuteTime": {
     "end_time": "2021-04-04T15:05:11.214226Z",
     "start_time": "2021-04-04T15:05:10.948592Z"
    }
   },
   "outputs": [
    {
     "data": {
      "text/html": [
       "<div>\n",
       "<style scoped>\n",
       "    .dataframe tbody tr th:only-of-type {\n",
       "        vertical-align: middle;\n",
       "    }\n",
       "\n",
       "    .dataframe tbody tr th {\n",
       "        vertical-align: top;\n",
       "    }\n",
       "\n",
       "    .dataframe thead th {\n",
       "        text-align: right;\n",
       "    }\n",
       "</style>\n",
       "<table border=\"1\" class=\"dataframe\">\n",
       "  <thead>\n",
       "    <tr style=\"text-align: right;\">\n",
       "      <th></th>\n",
       "      <th>Popularity</th>\n",
       "      <th>Vote Count</th>\n",
       "      <th>Titile</th>\n",
       "      <th>Vote Average</th>\n",
       "      <th>Overview</th>\n",
       "      <th>Release Date</th>\n",
       "    </tr>\n",
       "  </thead>\n",
       "  <tbody>\n",
       "    <tr>\n",
       "      <th>0</th>\n",
       "      <td>453.361</td>\n",
       "      <td>2875</td>\n",
       "      <td>Ad Astra</td>\n",
       "      <td>5.9</td>\n",
       "      <td>The near future, a time when both hope and har...</td>\n",
       "      <td>2019-09-17</td>\n",
       "    </tr>\n",
       "    <tr>\n",
       "      <th>1</th>\n",
       "      <td>315.622</td>\n",
       "      <td>2653</td>\n",
       "      <td>Bad Boys for Life</td>\n",
       "      <td>7.1</td>\n",
       "      <td>Marcus and Mike are forced to confront new thr...</td>\n",
       "      <td>2020-01-15</td>\n",
       "    </tr>\n",
       "    <tr>\n",
       "      <th>2</th>\n",
       "      <td>241.513</td>\n",
       "      <td>1419</td>\n",
       "      <td>Bloodshot</td>\n",
       "      <td>7.2</td>\n",
       "      <td>After he and his wife are murdered, marine Ray...</td>\n",
       "      <td>2020-03-05</td>\n",
       "    </tr>\n",
       "    <tr>\n",
       "      <th>3</th>\n",
       "      <td>209.518</td>\n",
       "      <td>2717</td>\n",
       "      <td>Birds of Prey (and the Fantabulous Emancipatio...</td>\n",
       "      <td>7.1</td>\n",
       "      <td>Harley Quinn joins forces with a singer, an as...</td>\n",
       "      <td>2020-02-05</td>\n",
       "    </tr>\n",
       "    <tr>\n",
       "      <th>4</th>\n",
       "      <td>188.203</td>\n",
       "      <td>3834</td>\n",
       "      <td>Star Wars: The Rise of Skywalker</td>\n",
       "      <td>6.5</td>\n",
       "      <td>The surviving Resistance faces the First Order...</td>\n",
       "      <td>2019-12-18</td>\n",
       "    </tr>\n",
       "  </tbody>\n",
       "</table>\n",
       "</div>"
      ],
      "text/plain": [
       "   Popularity  Vote Count                                             Titile  \\\n",
       "0     453.361        2875                                           Ad Astra   \n",
       "1     315.622        2653                                  Bad Boys for Life   \n",
       "2     241.513        1419                                          Bloodshot   \n",
       "3     209.518        2717  Birds of Prey (and the Fantabulous Emancipatio...   \n",
       "4     188.203        3834                   Star Wars: The Rise of Skywalker   \n",
       "\n",
       "   Vote Average                                           Overview  \\\n",
       "0           5.9  The near future, a time when both hope and har...   \n",
       "1           7.1  Marcus and Mike are forced to confront new thr...   \n",
       "2           7.2  After he and his wife are murdered, marine Ray...   \n",
       "3           7.1  Harley Quinn joins forces with a singer, an as...   \n",
       "4           6.5  The surviving Resistance faces the First Order...   \n",
       "\n",
       "  Release Date  \n",
       "0   2019-09-17  \n",
       "1   2020-01-15  \n",
       "2   2020-03-05  \n",
       "3   2020-02-05  \n",
       "4   2019-12-18  "
      ]
     },
     "execution_count": 3,
     "metadata": {},
     "output_type": "execute_result"
    }
   ],
   "source": [
    "movies.head()"
   ]
  },
  {
   "cell_type": "markdown",
   "metadata": {},
   "source": [
    "Renaming the columns name because they contains whitespace in between which cause an error to programe."
   ]
  },
  {
   "cell_type": "code",
   "execution_count": 4,
   "metadata": {
    "ExecuteTime": {
     "end_time": "2021-04-04T15:05:11.245473Z",
     "start_time": "2021-04-04T15:05:11.214226Z"
    }
   },
   "outputs": [],
   "source": [
    "movies.rename(columns={'Vote Average':'Ratings','Titile':'Title','Vote Count':'Votes','Release Date':'Release_Date'},inplace=True)"
   ]
  },
  {
   "cell_type": "code",
   "execution_count": 5,
   "metadata": {
    "ExecuteTime": {
     "end_time": "2021-04-04T15:05:11.386095Z",
     "start_time": "2021-04-04T15:05:11.245473Z"
    }
   },
   "outputs": [
    {
     "data": {
      "text/plain": [
       "Index(['Popularity', 'Votes', 'Title', 'Ratings', 'Overview', 'Release_Date'], dtype='object')"
      ]
     },
     "execution_count": 5,
     "metadata": {},
     "output_type": "execute_result"
    }
   ],
   "source": [
    "movies.columns"
   ]
  },
  {
   "cell_type": "code",
   "execution_count": 6,
   "metadata": {
    "ExecuteTime": {
     "end_time": "2021-04-04T15:05:11.714223Z",
     "start_time": "2021-04-04T15:05:11.386095Z"
    }
   },
   "outputs": [
    {
     "data": {
      "text/html": [
       "<div>\n",
       "<style scoped>\n",
       "    .dataframe tbody tr th:only-of-type {\n",
       "        vertical-align: middle;\n",
       "    }\n",
       "\n",
       "    .dataframe tbody tr th {\n",
       "        vertical-align: top;\n",
       "    }\n",
       "\n",
       "    .dataframe thead th {\n",
       "        text-align: right;\n",
       "    }\n",
       "</style>\n",
       "<table border=\"1\" class=\"dataframe\">\n",
       "  <thead>\n",
       "    <tr style=\"text-align: right;\">\n",
       "      <th></th>\n",
       "      <th>Popularity</th>\n",
       "      <th>Votes</th>\n",
       "      <th>Ratings</th>\n",
       "    </tr>\n",
       "  </thead>\n",
       "  <tbody>\n",
       "    <tr>\n",
       "      <th>count</th>\n",
       "      <td>10000.000000</td>\n",
       "      <td>10000.000000</td>\n",
       "      <td>10000.000000</td>\n",
       "    </tr>\n",
       "    <tr>\n",
       "      <th>mean</th>\n",
       "      <td>13.439259</td>\n",
       "      <td>1015.165500</td>\n",
       "      <td>6.341660</td>\n",
       "    </tr>\n",
       "    <tr>\n",
       "      <th>std</th>\n",
       "      <td>10.970790</td>\n",
       "      <td>1996.812101</td>\n",
       "      <td>1.264592</td>\n",
       "    </tr>\n",
       "    <tr>\n",
       "      <th>min</th>\n",
       "      <td>5.258000</td>\n",
       "      <td>0.000000</td>\n",
       "      <td>0.000000</td>\n",
       "    </tr>\n",
       "    <tr>\n",
       "      <th>25%</th>\n",
       "      <td>9.194750</td>\n",
       "      <td>136.000000</td>\n",
       "      <td>5.800000</td>\n",
       "    </tr>\n",
       "    <tr>\n",
       "      <th>50%</th>\n",
       "      <td>11.158500</td>\n",
       "      <td>312.000000</td>\n",
       "      <td>6.500000</td>\n",
       "    </tr>\n",
       "    <tr>\n",
       "      <th>75%</th>\n",
       "      <td>14.276500</td>\n",
       "      <td>919.000000</td>\n",
       "      <td>7.100000</td>\n",
       "    </tr>\n",
       "    <tr>\n",
       "      <th>max</th>\n",
       "      <td>453.361000</td>\n",
       "      <td>25168.000000</td>\n",
       "      <td>10.000000</td>\n",
       "    </tr>\n",
       "  </tbody>\n",
       "</table>\n",
       "</div>"
      ],
      "text/plain": [
       "         Popularity         Votes       Ratings\n",
       "count  10000.000000  10000.000000  10000.000000\n",
       "mean      13.439259   1015.165500      6.341660\n",
       "std       10.970790   1996.812101      1.264592\n",
       "min        5.258000      0.000000      0.000000\n",
       "25%        9.194750    136.000000      5.800000\n",
       "50%       11.158500    312.000000      6.500000\n",
       "75%       14.276500    919.000000      7.100000\n",
       "max      453.361000  25168.000000     10.000000"
      ]
     },
     "execution_count": 6,
     "metadata": {},
     "output_type": "execute_result"
    }
   ],
   "source": [
    "movies.describe()"
   ]
  },
  {
   "cell_type": "code",
   "execution_count": 29,
   "metadata": {
    "ExecuteTime": {
     "end_time": "2021-04-04T15:10:08.813389Z",
     "start_time": "2021-04-04T15:10:08.782148Z"
    }
   },
   "outputs": [
    {
     "data": {
      "text/plain": [
       "Popularity                  0\n",
       "Votes                       0\n",
       "Title                       0\n",
       "Ratings                     0\n",
       "Overview                    0\n",
       "Release_Date                0\n",
       "Average_weighted_ratings    0\n",
       "Equal_importance            0\n",
       "dtype: int64"
      ]
     },
     "execution_count": 29,
     "metadata": {},
     "output_type": "execute_result"
    }
   ],
   "source": [
    "movies.isna().sum()"
   ]
  },
  {
   "cell_type": "markdown",
   "metadata": {
    "ExecuteTime": {
     "end_time": "2021-04-04T15:07:54.368024Z",
     "start_time": "2021-04-04T15:07:54.352386Z"
    }
   },
   "source": [
    "__Taking care of Overview and Release data missing values.__"
   ]
  },
  {
   "cell_type": "code",
   "execution_count": 26,
   "metadata": {
    "ExecuteTime": {
     "end_time": "2021-04-04T15:09:14.915649Z",
     "start_time": "2021-04-04T15:09:14.900020Z"
    }
   },
   "outputs": [],
   "source": [
    "movies['Overview'].fillna(value='',inplace=True)"
   ]
  },
  {
   "cell_type": "code",
   "execution_count": 28,
   "metadata": {
    "ExecuteTime": {
     "end_time": "2021-04-04T15:10:05.486288Z",
     "start_time": "2021-04-04T15:10:05.376885Z"
    }
   },
   "outputs": [],
   "source": [
    "movies['Release_Date'].fillna(movies['Release_Date'].mode()[0],inplace=True)"
   ]
  },
  {
   "cell_type": "markdown",
   "metadata": {},
   "source": [
    "__Movies with highest rating and having number of votes higher then the average votes given to all movies.__"
   ]
  },
  {
   "cell_type": "code",
   "execution_count": 61,
   "metadata": {
    "ExecuteTime": {
     "end_time": "2021-04-04T17:21:16.210514Z",
     "start_time": "2021-04-04T17:21:16.101144Z"
    }
   },
   "outputs": [
    {
     "data": {
      "text/html": [
       "<div>\n",
       "<style scoped>\n",
       "    .dataframe tbody tr th:only-of-type {\n",
       "        vertical-align: middle;\n",
       "    }\n",
       "\n",
       "    .dataframe tbody tr th {\n",
       "        vertical-align: top;\n",
       "    }\n",
       "\n",
       "    .dataframe thead th {\n",
       "        text-align: right;\n",
       "    }\n",
       "</style>\n",
       "<table border=\"1\" class=\"dataframe\">\n",
       "  <thead>\n",
       "    <tr style=\"text-align: right;\">\n",
       "      <th></th>\n",
       "      <th>Popularity</th>\n",
       "      <th>Votes</th>\n",
       "      <th>Title</th>\n",
       "      <th>Ratings</th>\n",
       "      <th>Overview</th>\n",
       "      <th>Release_Date</th>\n",
       "      <th>Average_weighted_ratings</th>\n",
       "      <th>Equal_importance</th>\n",
       "    </tr>\n",
       "  </thead>\n",
       "  <tbody>\n",
       "    <tr>\n",
       "      <th>656</th>\n",
       "      <td>23.546</td>\n",
       "      <td>2231</td>\n",
       "      <td>Dilwale Dulhania Le Jayenge</td>\n",
       "      <td>8.8</td>\n",
       "      <td>Raj is a rich, carefree, happy-go-lucky second...</td>\n",
       "      <td>1995-10-20</td>\n",
       "      <td>8.082789</td>\n",
       "      <td>0.464065</td>\n",
       "    </tr>\n",
       "    <tr>\n",
       "      <th>154</th>\n",
       "      <td>43.202</td>\n",
       "      <td>11795</td>\n",
       "      <td>The Godfather</td>\n",
       "      <td>8.7</td>\n",
       "      <td>Spanning the years 1945 to 1955, a chronicle o...</td>\n",
       "      <td>1972-03-14</td>\n",
       "      <td>8.529533</td>\n",
       "      <td>0.537828</td>\n",
       "    </tr>\n",
       "    <tr>\n",
       "      <th>64</th>\n",
       "      <td>54.549</td>\n",
       "      <td>15551</td>\n",
       "      <td>The Shawshank Redemption</td>\n",
       "      <td>8.7</td>\n",
       "      <td>Framed in the 1940s for the double murder of h...</td>\n",
       "      <td>1994-09-23</td>\n",
       "      <td>8.568408</td>\n",
       "      <td>0.555000</td>\n",
       "    </tr>\n",
       "    <tr>\n",
       "      <th>351</th>\n",
       "      <td>31.658</td>\n",
       "      <td>9385</td>\n",
       "      <td>Schindler's List</td>\n",
       "      <td>8.6</td>\n",
       "      <td>The true story of how businessman Oskar Schind...</td>\n",
       "      <td>1993-11-30</td>\n",
       "      <td>8.398582</td>\n",
       "      <td>0.509754</td>\n",
       "    </tr>\n",
       "    <tr>\n",
       "      <th>149</th>\n",
       "      <td>41.760</td>\n",
       "      <td>9029</td>\n",
       "      <td>Spirited Away</td>\n",
       "      <td>8.5</td>\n",
       "      <td>A young girl, Chihiro, becomes trapped in a st...</td>\n",
       "      <td>2001-07-20</td>\n",
       "      <td>8.300612</td>\n",
       "      <td>0.509660</td>\n",
       "    </tr>\n",
       "    <tr>\n",
       "      <th>...</th>\n",
       "      <td>...</td>\n",
       "      <td>...</td>\n",
       "      <td>...</td>\n",
       "      <td>...</td>\n",
       "      <td>...</td>\n",
       "      <td>...</td>\n",
       "      <td>...</td>\n",
       "      <td>...</td>\n",
       "    </tr>\n",
       "    <tr>\n",
       "      <th>2162</th>\n",
       "      <td>15.508</td>\n",
       "      <td>4230</td>\n",
       "      <td>Fantastic Four</td>\n",
       "      <td>4.4</td>\n",
       "      <td>Four young outsiders teleport to a dangerous u...</td>\n",
       "      <td>2015-08-05</td>\n",
       "      <td>4.746550</td>\n",
       "      <td>0.068031</td>\n",
       "    </tr>\n",
       "    <tr>\n",
       "      <th>917</th>\n",
       "      <td>19.797</td>\n",
       "      <td>3132</td>\n",
       "      <td>Batman &amp; Robin</td>\n",
       "      <td>4.3</td>\n",
       "      <td>Along with crime-fighting partner Robin and ne...</td>\n",
       "      <td>1997-06-20</td>\n",
       "      <td>4.763166</td>\n",
       "      <td>0.074745</td>\n",
       "    </tr>\n",
       "    <tr>\n",
       "      <th>2119</th>\n",
       "      <td>13.330</td>\n",
       "      <td>2802</td>\n",
       "      <td>Death Note</td>\n",
       "      <td>4.2</td>\n",
       "      <td>A young man comes to possess a supernatural no...</td>\n",
       "      <td>2017-08-25</td>\n",
       "      <td>4.728940</td>\n",
       "      <td>0.063558</td>\n",
       "    </tr>\n",
       "    <tr>\n",
       "      <th>3584</th>\n",
       "      <td>12.081</td>\n",
       "      <td>1308</td>\n",
       "      <td>Jack and Jill</td>\n",
       "      <td>4.1</td>\n",
       "      <td>Jack Sadelstein, a successful advertising exec...</td>\n",
       "      <td>2011-11-11</td>\n",
       "      <td>5.025050</td>\n",
       "      <td>0.096518</td>\n",
       "    </tr>\n",
       "    <tr>\n",
       "      <th>5191</th>\n",
       "      <td>12.828</td>\n",
       "      <td>1154</td>\n",
       "      <td>Dragonball Evolution</td>\n",
       "      <td>2.6</td>\n",
       "      <td>The young warrior Son Goku sets out on a quest...</td>\n",
       "      <td>2009-03-12</td>\n",
       "      <td>4.258748</td>\n",
       "      <td>0.008447</td>\n",
       "    </tr>\n",
       "  </tbody>\n",
       "</table>\n",
       "<p>2309 rows × 8 columns</p>\n",
       "</div>"
      ],
      "text/plain": [
       "      Popularity  Votes                        Title  Ratings  \\\n",
       "656       23.546   2231  Dilwale Dulhania Le Jayenge      8.8   \n",
       "154       43.202  11795                The Godfather      8.7   \n",
       "64        54.549  15551     The Shawshank Redemption      8.7   \n",
       "351       31.658   9385             Schindler's List      8.6   \n",
       "149       41.760   9029                Spirited Away      8.5   \n",
       "...          ...    ...                          ...      ...   \n",
       "2162      15.508   4230               Fantastic Four      4.4   \n",
       "917       19.797   3132               Batman & Robin      4.3   \n",
       "2119      13.330   2802                   Death Note      4.2   \n",
       "3584      12.081   1308                Jack and Jill      4.1   \n",
       "5191      12.828   1154         Dragonball Evolution      2.6   \n",
       "\n",
       "                                               Overview Release_Date  \\\n",
       "656   Raj is a rich, carefree, happy-go-lucky second...   1995-10-20   \n",
       "154   Spanning the years 1945 to 1955, a chronicle o...   1972-03-14   \n",
       "64    Framed in the 1940s for the double murder of h...   1994-09-23   \n",
       "351   The true story of how businessman Oskar Schind...   1993-11-30   \n",
       "149   A young girl, Chihiro, becomes trapped in a st...   2001-07-20   \n",
       "...                                                 ...          ...   \n",
       "2162  Four young outsiders teleport to a dangerous u...   2015-08-05   \n",
       "917   Along with crime-fighting partner Robin and ne...   1997-06-20   \n",
       "2119  A young man comes to possess a supernatural no...   2017-08-25   \n",
       "3584  Jack Sadelstein, a successful advertising exec...   2011-11-11   \n",
       "5191  The young warrior Son Goku sets out on a quest...   2009-03-12   \n",
       "\n",
       "      Average_weighted_ratings  Equal_importance  \n",
       "656                   8.082789          0.464065  \n",
       "154                   8.529533          0.537828  \n",
       "64                    8.568408          0.555000  \n",
       "351                   8.398582          0.509754  \n",
       "149                   8.300612          0.509660  \n",
       "...                        ...               ...  \n",
       "2162                  4.746550          0.068031  \n",
       "917                   4.763166          0.074745  \n",
       "2119                  4.728940          0.063558  \n",
       "3584                  5.025050          0.096518  \n",
       "5191                  4.258748          0.008447  \n",
       "\n",
       "[2309 rows x 8 columns]"
      ]
     },
     "execution_count": 61,
     "metadata": {},
     "output_type": "execute_result"
    }
   ],
   "source": [
    "rate=movies.sort_values('Ratings',ascending=False)\n",
    "rate=rate[rate['Votes'] > rate['Votes'].mean()]     # mean is close to 1000\n",
    "rate"
   ]
  },
  {
   "cell_type": "markdown",
   "metadata": {},
   "source": [
    "# Top 10 Movies according to their Ratings and number of votes higher than 1000."
   ]
  },
  {
   "cell_type": "code",
   "execution_count": 63,
   "metadata": {
    "ExecuteTime": {
     "end_time": "2021-04-04T17:22:45.330519Z",
     "start_time": "2021-04-04T17:22:44.861764Z"
    }
   },
   "outputs": [
    {
     "name": "stderr",
     "output_type": "stream",
     "text": [
      "C:\\ProgramData\\Anaconda3\\lib\\site-packages\\seaborn\\_decorators.py:36: FutureWarning: Pass the following variables as keyword args: x, y. From version 0.12, the only valid positional argument will be `data`, and passing other arguments without an explicit keyword will result in an error or misinterpretation.\n",
      "  warnings.warn(\n"
     ]
    },
    {
     "data": {
      "image/png": "[encoded data removed]",
      "text/plain": [
       "<Figure size 720x360 with 1 Axes>"
      ]
     },
     "metadata": {
      "needs_background": "light"
     },
     "output_type": "display_data"
    }
   ],
   "source": [
    "plt.figure(figsize=(10,5))\n",
    "sns.barplot(rate['Ratings'].head(10),rate['Title'].head(10));\n",
    "plt.xlim(7, 10)\n",
    "plt.title('Best Movies by rating(Votes > 1000)', weight='bold')\n",
    "plt.xlabel('Ratings', weight='bold')\n",
    "plt.ylabel('Movie Title', weight='bold')\n",
    "plt.savefig('Ratings.png')"
   ]
  },
  {
   "cell_type": "markdown",
   "metadata": {},
   "source": [
    "## __IMDB rating method using Average weighted rating formula.__  \n",
    "__Calculating the Average_weighted_ratings for each movie.__"
   ]
  },
  {
   "cell_type": "code",
   "execution_count": 8,
   "metadata": {
    "ExecuteTime": {
     "end_time": "2021-04-04T15:05:11.979851Z",
     "start_time": "2021-04-04T15:05:11.870475Z"
    }
   },
   "outputs": [],
   "source": [
    "R=movies['Ratings']          #Average rating of each movie.\n",
    "v=movies['Votes']             # Number of times rating given to movie.\n",
    "avgR=movies['Ratings'].mean()  # Average rating of all the movies.\n",
    "minq=movies['Votes'].quantile(.75)   # Minimum number of votes required to be in top 25%.\n"
   ]
  },
  {
   "cell_type": "code",
   "execution_count": 9,
   "metadata": {
    "ExecuteTime": {
     "end_time": "2021-04-04T15:05:12.104869Z",
     "start_time": "2021-04-04T15:05:11.979851Z"
    }
   },
   "outputs": [
    {
     "data": {
      "text/plain": [
       "(6.3416599999999805, 919.0)"
      ]
     },
     "execution_count": 9,
     "metadata": {},
     "output_type": "execute_result"
    }
   ],
   "source": [
    "avgR,minq"
   ]
  },
  {
   "cell_type": "code",
   "execution_count": 10,
   "metadata": {
    "ExecuteTime": {
     "end_time": "2021-04-04T15:05:12.714235Z",
     "start_time": "2021-04-04T15:05:12.104869Z"
    }
   },
   "outputs": [],
   "source": [
    "movies['Average_weighted_ratings']=((R*v)+(avgR*minq))/(v+minq)"
   ]
  },
  {
   "cell_type": "markdown",
   "metadata": {},
   "source": [
    "__Arranging them in order of high to low rating.__"
   ]
  },
  {
   "cell_type": "code",
   "execution_count": 11,
   "metadata": {
    "ExecuteTime": {
     "end_time": "2021-04-04T15:05:12.745484Z",
     "start_time": "2021-04-04T15:05:12.714235Z"
    }
   },
   "outputs": [],
   "source": [
    "ratings=movies.sort_values('Average_weighted_ratings',ascending=False)"
   ]
  },
  {
   "cell_type": "code",
   "execution_count": 32,
   "metadata": {
    "ExecuteTime": {
     "end_time": "2021-04-04T15:16:38.195638Z",
     "start_time": "2021-04-04T15:16:38.148764Z"
    }
   },
   "outputs": [
    {
     "data": {
      "text/html": [
       "<div>\n",
       "<style scoped>\n",
       "    .dataframe tbody tr th:only-of-type {\n",
       "        vertical-align: middle;\n",
       "    }\n",
       "\n",
       "    .dataframe tbody tr th {\n",
       "        vertical-align: top;\n",
       "    }\n",
       "\n",
       "    .dataframe thead th {\n",
       "        text-align: right;\n",
       "    }\n",
       "</style>\n",
       "<table border=\"1\" class=\"dataframe\">\n",
       "  <thead>\n",
       "    <tr style=\"text-align: right;\">\n",
       "      <th></th>\n",
       "      <th>Popularity</th>\n",
       "      <th>Votes</th>\n",
       "      <th>Title</th>\n",
       "      <th>Ratings</th>\n",
       "      <th>Overview</th>\n",
       "      <th>Release_Date</th>\n",
       "      <th>Average_weighted_ratings</th>\n",
       "    </tr>\n",
       "  </thead>\n",
       "  <tbody>\n",
       "    <tr>\n",
       "      <th>64</th>\n",
       "      <td>54.549</td>\n",
       "      <td>15551</td>\n",
       "      <td>The Shawshank Redemption</td>\n",
       "      <td>8.7</td>\n",
       "      <td>Framed in the 1940s for the double murder of h...</td>\n",
       "      <td>1994-09-23</td>\n",
       "      <td>8.568408</td>\n",
       "    </tr>\n",
       "    <tr>\n",
       "      <th>154</th>\n",
       "      <td>43.202</td>\n",
       "      <td>11795</td>\n",
       "      <td>The Godfather</td>\n",
       "      <td>8.7</td>\n",
       "      <td>Spanning the years 1945 to 1955, a chronicle o...</td>\n",
       "      <td>1972-03-14</td>\n",
       "      <td>8.529533</td>\n",
       "    </tr>\n",
       "    <tr>\n",
       "      <th>351</th>\n",
       "      <td>31.658</td>\n",
       "      <td>9385</td>\n",
       "      <td>Schindler's List</td>\n",
       "      <td>8.6</td>\n",
       "      <td>The true story of how businessman Oskar Schind...</td>\n",
       "      <td>1993-11-30</td>\n",
       "      <td>8.398582</td>\n",
       "    </tr>\n",
       "    <tr>\n",
       "      <th>152</th>\n",
       "      <td>38.827</td>\n",
       "      <td>18034</td>\n",
       "      <td>Pulp Fiction</td>\n",
       "      <td>8.5</td>\n",
       "      <td>A burger-loving hit man, his philosophical par...</td>\n",
       "      <td>1994-09-10</td>\n",
       "      <td>8.395346</td>\n",
       "    </tr>\n",
       "    <tr>\n",
       "      <th>82</th>\n",
       "      <td>44.252</td>\n",
       "      <td>21588</td>\n",
       "      <td>The Dark Knight</td>\n",
       "      <td>8.4</td>\n",
       "      <td>Batman raises the stakes in his war on crime. ...</td>\n",
       "      <td>2008-07-16</td>\n",
       "      <td>8.315954</td>\n",
       "    </tr>\n",
       "    <tr>\n",
       "      <th>313</th>\n",
       "      <td>27.063</td>\n",
       "      <td>9757</td>\n",
       "      <td>The Green Mile</td>\n",
       "      <td>8.5</td>\n",
       "      <td>A supernatural tale set on death row in a Sout...</td>\n",
       "      <td>1999-12-10</td>\n",
       "      <td>8.314208</td>\n",
       "    </tr>\n",
       "    <tr>\n",
       "      <th>185</th>\n",
       "      <td>34.662</td>\n",
       "      <td>18691</td>\n",
       "      <td>Fight Club</td>\n",
       "      <td>8.4</td>\n",
       "      <td>A ticking-time-bomb insomniac and a slippery s...</td>\n",
       "      <td>1999-10-15</td>\n",
       "      <td>8.303538</td>\n",
       "    </tr>\n",
       "    <tr>\n",
       "      <th>149</th>\n",
       "      <td>41.760</td>\n",
       "      <td>9029</td>\n",
       "      <td>Spirited Away</td>\n",
       "      <td>8.5</td>\n",
       "      <td>A young girl, Chihiro, becomes trapped in a st...</td>\n",
       "      <td>2001-07-20</td>\n",
       "      <td>8.300612</td>\n",
       "    </tr>\n",
       "    <tr>\n",
       "      <th>177</th>\n",
       "      <td>34.235</td>\n",
       "      <td>17372</td>\n",
       "      <td>Forrest Gump</td>\n",
       "      <td>8.4</td>\n",
       "      <td>A man with a low IQ has accomplished great thi...</td>\n",
       "      <td>1994-07-06</td>\n",
       "      <td>8.296582</td>\n",
       "    </tr>\n",
       "    <tr>\n",
       "      <th>493</th>\n",
       "      <td>26.063</td>\n",
       "      <td>8497</td>\n",
       "      <td>Life Is Beautiful</td>\n",
       "      <td>8.5</td>\n",
       "      <td>A touching story of an Italian book seller of ...</td>\n",
       "      <td>1997-12-20</td>\n",
       "      <td>8.289346</td>\n",
       "    </tr>\n",
       "  </tbody>\n",
       "</table>\n",
       "</div>"
      ],
      "text/plain": [
       "     Popularity  Votes                     Title  Ratings  \\\n",
       "64       54.549  15551  The Shawshank Redemption      8.7   \n",
       "154      43.202  11795             The Godfather      8.7   \n",
       "351      31.658   9385          Schindler's List      8.6   \n",
       "152      38.827  18034              Pulp Fiction      8.5   \n",
       "82       44.252  21588           The Dark Knight      8.4   \n",
       "313      27.063   9757            The Green Mile      8.5   \n",
       "185      34.662  18691                Fight Club      8.4   \n",
       "149      41.760   9029             Spirited Away      8.5   \n",
       "177      34.235  17372              Forrest Gump      8.4   \n",
       "493      26.063   8497         Life Is Beautiful      8.5   \n",
       "\n",
       "                                              Overview Release_Date  \\\n",
       "64   Framed in the 1940s for the double murder of h...   1994-09-23   \n",
       "154  Spanning the years 1945 to 1955, a chronicle o...   1972-03-14   \n",
       "351  The true story of how businessman Oskar Schind...   1993-11-30   \n",
       "152  A burger-loving hit man, his philosophical par...   1994-09-10   \n",
       "82   Batman raises the stakes in his war on crime. ...   2008-07-16   \n",
       "313  A supernatural tale set on death row in a Sout...   1999-12-10   \n",
       "185  A ticking-time-bomb insomniac and a slippery s...   1999-10-15   \n",
       "149  A young girl, Chihiro, becomes trapped in a st...   2001-07-20   \n",
       "177  A man with a low IQ has accomplished great thi...   1994-07-06   \n",
       "493  A touching story of an Italian book seller of ...   1997-12-20   \n",
       "\n",
       "     Average_weighted_ratings  \n",
       "64                   8.568408  \n",
       "154                  8.529533  \n",
       "351                  8.398582  \n",
       "152                  8.395346  \n",
       "82                   8.315954  \n",
       "313                  8.314208  \n",
       "185                  8.303538  \n",
       "149                  8.300612  \n",
       "177                  8.296582  \n",
       "493                  8.289346  "
      ]
     },
     "execution_count": 32,
     "metadata": {},
     "output_type": "execute_result"
    }
   ],
   "source": [
    "ratings.head(10)"
   ]
  },
  {
   "cell_type": "markdown",
   "metadata": {},
   "source": [
    "# Top 10 Movies according to their Average weighted Ratings."
   ]
  },
  {
   "cell_type": "code",
   "execution_count": 62,
   "metadata": {
    "ExecuteTime": {
     "end_time": "2021-04-04T17:21:45.714409Z",
     "start_time": "2021-04-04T17:21:44.822969Z"
    }
   },
   "outputs": [
    {
     "name": "stderr",
     "output_type": "stream",
     "text": [
      "C:\\ProgramData\\Anaconda3\\lib\\site-packages\\seaborn\\_decorators.py:36: FutureWarning: Pass the following variables as keyword args: x, y. From version 0.12, the only valid positional argument will be `data`, and passing other arguments without an explicit keyword will result in an error or misinterpretation.\n",
      "  warnings.warn(\n"
     ]
    },
    {
     "data": {
      "image/png": "[encoded data removed]",
      "text/plain": [
       "<Figure size 720x360 with 1 Axes>"
      ]
     },
     "metadata": {
      "needs_background": "light"
     },
     "output_type": "display_data"
    }
   ],
   "source": [
    "plt.figure(figsize=(10,5))\n",
    "sns.barplot(ratings['Average_weighted_ratings'].head(10),ratings['Title'].head(10));\n",
    "plt.xlim(7, 10)\n",
    "plt.title('Best Movies by Average Weighted method', weight='bold')\n",
    "plt.xlabel('Weighted Average Score', weight='bold')\n",
    "plt.ylabel('Movie Title', weight='bold')\n",
    "plt.savefig('Average weighted Ratings.png')"
   ]
  },
  {
   "cell_type": "markdown",
   "metadata": {},
   "source": [
    "__Arranging them in order of high to low Popularity.__"
   ]
  },
  {
   "cell_type": "code",
   "execution_count": 39,
   "metadata": {
    "ExecuteTime": {
     "end_time": "2021-04-04T15:26:58.248939Z",
     "start_time": "2021-04-04T15:26:58.217715Z"
    }
   },
   "outputs": [],
   "source": [
    "popularity= movies.sort_values('Popularity',ascending=False)"
   ]
  },
  {
   "cell_type": "code",
   "execution_count": 41,
   "metadata": {
    "ExecuteTime": {
     "end_time": "2021-04-04T15:27:09.139194Z",
     "start_time": "2021-04-04T15:27:09.107926Z"
    }
   },
   "outputs": [
    {
     "data": {
      "text/html": [
       "<div>\n",
       "<style scoped>\n",
       "    .dataframe tbody tr th:only-of-type {\n",
       "        vertical-align: middle;\n",
       "    }\n",
       "\n",
       "    .dataframe tbody tr th {\n",
       "        vertical-align: top;\n",
       "    }\n",
       "\n",
       "    .dataframe thead th {\n",
       "        text-align: right;\n",
       "    }\n",
       "</style>\n",
       "<table border=\"1\" class=\"dataframe\">\n",
       "  <thead>\n",
       "    <tr style=\"text-align: right;\">\n",
       "      <th></th>\n",
       "      <th>Popularity</th>\n",
       "      <th>Votes</th>\n",
       "      <th>Title</th>\n",
       "      <th>Ratings</th>\n",
       "      <th>Overview</th>\n",
       "      <th>Release_Date</th>\n",
       "      <th>Average_weighted_ratings</th>\n",
       "      <th>Equal_importance</th>\n",
       "    </tr>\n",
       "  </thead>\n",
       "  <tbody>\n",
       "    <tr>\n",
       "      <th>0</th>\n",
       "      <td>453.361</td>\n",
       "      <td>2875</td>\n",
       "      <td>Ad Astra</td>\n",
       "      <td>5.9</td>\n",
       "      <td>The near future, a time when both hope and har...</td>\n",
       "      <td>2019-09-17</td>\n",
       "      <td>6.006981</td>\n",
       "      <td>0.702827</td>\n",
       "    </tr>\n",
       "    <tr>\n",
       "      <th>1</th>\n",
       "      <td>315.622</td>\n",
       "      <td>2653</td>\n",
       "      <td>Bad Boys for Life</td>\n",
       "      <td>7.1</td>\n",
       "      <td>Marcus and Mike are forced to confront new thr...</td>\n",
       "      <td>2020-01-15</td>\n",
       "      <td>6.904895</td>\n",
       "      <td>0.653311</td>\n",
       "    </tr>\n",
       "    <tr>\n",
       "      <th>2</th>\n",
       "      <td>241.513</td>\n",
       "      <td>1419</td>\n",
       "      <td>Bloodshot</td>\n",
       "      <td>7.2</td>\n",
       "      <td>After he and his wife are murdered, marine Ray...</td>\n",
       "      <td>2020-03-05</td>\n",
       "      <td>6.862611</td>\n",
       "      <td>0.565713</td>\n",
       "    </tr>\n",
       "    <tr>\n",
       "      <th>3</th>\n",
       "      <td>209.518</td>\n",
       "      <td>2717</td>\n",
       "      <td>Birds of Prey (and the Fantabulous Emancipatio...</td>\n",
       "      <td>7.1</td>\n",
       "      <td>Harley Quinn joins forces with a singer, an as...</td>\n",
       "      <td>2020-02-05</td>\n",
       "      <td>6.908329</td>\n",
       "      <td>0.535317</td>\n",
       "    </tr>\n",
       "    <tr>\n",
       "      <th>5</th>\n",
       "      <td>192.374</td>\n",
       "      <td>2130</td>\n",
       "      <td>Sonic the Hedgehog</td>\n",
       "      <td>7.4</td>\n",
       "      <td>Based on the global blockbuster videogame fran...</td>\n",
       "      <td>2020-02-12</td>\n",
       "      <td>7.081005</td>\n",
       "      <td>0.536221</td>\n",
       "    </tr>\n",
       "    <tr>\n",
       "      <th>4</th>\n",
       "      <td>188.203</td>\n",
       "      <td>3834</td>\n",
       "      <td>Star Wars: The Rise of Skywalker</td>\n",
       "      <td>6.5</td>\n",
       "      <td>The surviving Resistance faces the First Order...</td>\n",
       "      <td>2019-12-18</td>\n",
       "      <td>6.469385</td>\n",
       "      <td>0.460607</td>\n",
       "    </tr>\n",
       "    <tr>\n",
       "      <th>6</th>\n",
       "      <td>167.159</td>\n",
       "      <td>303</td>\n",
       "      <td>Teen Titans: The Judas Contract</td>\n",
       "      <td>7.2</td>\n",
       "      <td>Tara Markov is a girl who has power over earth...</td>\n",
       "      <td>2017-03-22</td>\n",
       "      <td>6.554489</td>\n",
       "      <td>0.447000</td>\n",
       "    </tr>\n",
       "    <tr>\n",
       "      <th>15</th>\n",
       "      <td>151.710</td>\n",
       "      <td>755</td>\n",
       "      <td>The Gentlemen</td>\n",
       "      <td>7.8</td>\n",
       "      <td>American expat Mickey Pearson has built a high...</td>\n",
       "      <td>2019-12-16</td>\n",
       "      <td>6.999394</td>\n",
       "      <td>0.481379</td>\n",
       "    </tr>\n",
       "    <tr>\n",
       "      <th>13</th>\n",
       "      <td>150.556</td>\n",
       "      <td>53</td>\n",
       "      <td>Trolls World Tour</td>\n",
       "      <td>8.0</td>\n",
       "      <td>Queen Poppy and Branch make a surprising disco...</td>\n",
       "      <td>2020-03-12</td>\n",
       "      <td>6.432084</td>\n",
       "      <td>0.414273</td>\n",
       "    </tr>\n",
       "    <tr>\n",
       "      <th>7</th>\n",
       "      <td>146.954</td>\n",
       "      <td>2028</td>\n",
       "      <td>The Platform</td>\n",
       "      <td>7.1</td>\n",
       "      <td>A mysterious place, an indescribable prison, a...</td>\n",
       "      <td>2019-11-08</td>\n",
       "      <td>6.863517</td>\n",
       "      <td>0.460308</td>\n",
       "    </tr>\n",
       "  </tbody>\n",
       "</table>\n",
       "</div>"
      ],
      "text/plain": [
       "    Popularity  Votes                                              Title  \\\n",
       "0      453.361   2875                                           Ad Astra   \n",
       "1      315.622   2653                                  Bad Boys for Life   \n",
       "2      241.513   1419                                          Bloodshot   \n",
       "3      209.518   2717  Birds of Prey (and the Fantabulous Emancipatio...   \n",
       "5      192.374   2130                                 Sonic the Hedgehog   \n",
       "4      188.203   3834                   Star Wars: The Rise of Skywalker   \n",
       "6      167.159    303                    Teen Titans: The Judas Contract   \n",
       "15     151.710    755                                      The Gentlemen   \n",
       "13     150.556     53                                  Trolls World Tour   \n",
       "7      146.954   2028                                       The Platform   \n",
       "\n",
       "    Ratings                                           Overview Release_Date  \\\n",
       "0       5.9  The near future, a time when both hope and har...   2019-09-17   \n",
       "1       7.1  Marcus and Mike are forced to confront new thr...   2020-01-15   \n",
       "2       7.2  After he and his wife are murdered, marine Ray...   2020-03-05   \n",
       "3       7.1  Harley Quinn joins forces with a singer, an as...   2020-02-05   \n",
       "5       7.4  Based on the global blockbuster videogame fran...   2020-02-12   \n",
       "4       6.5  The surviving Resistance faces the First Order...   2019-12-18   \n",
       "6       7.2  Tara Markov is a girl who has power over earth...   2017-03-22   \n",
       "15      7.8  American expat Mickey Pearson has built a high...   2019-12-16   \n",
       "13      8.0  Queen Poppy and Branch make a surprising disco...   2020-03-12   \n",
       "7       7.1  A mysterious place, an indescribable prison, a...   2019-11-08   \n",
       "\n",
       "    Average_weighted_ratings  Equal_importance  \n",
       "0                   6.006981          0.702827  \n",
       "1                   6.904895          0.653311  \n",
       "2                   6.862611          0.565713  \n",
       "3                   6.908329          0.535317  \n",
       "5                   7.081005          0.536221  \n",
       "4                   6.469385          0.460607  \n",
       "6                   6.554489          0.447000  \n",
       "15                  6.999394          0.481379  \n",
       "13                  6.432084          0.414273  \n",
       "7                   6.863517          0.460308  "
      ]
     },
     "execution_count": 41,
     "metadata": {},
     "output_type": "execute_result"
    }
   ],
   "source": [
    "popularity.head(10)"
   ]
  },
  {
   "cell_type": "markdown",
   "metadata": {},
   "source": [
    "# Top 10 Movies according to their Popularity."
   ]
  },
  {
   "cell_type": "code",
   "execution_count": 47,
   "metadata": {
    "ExecuteTime": {
     "end_time": "2021-04-04T15:29:50.505172Z",
     "start_time": "2021-04-04T15:29:50.036429Z"
    }
   },
   "outputs": [
    {
     "name": "stderr",
     "output_type": "stream",
     "text": [
      "C:\\ProgramData\\Anaconda3\\lib\\site-packages\\seaborn\\_decorators.py:36: FutureWarning: Pass the following variables as keyword args: x, y. From version 0.12, the only valid positional argument will be `data`, and passing other arguments without an explicit keyword will result in an error or misinterpretation.\n",
      "  warnings.warn(\n"
     ]
    },
    {
     "data": {
      "image/png": "[encoded data removed]",
      "text/plain": [
       "<Figure size 720x360 with 1 Axes>"
      ]
     },
     "metadata": {
      "needs_background": "light"
     },
     "output_type": "display_data"
    }
   ],
   "source": [
    "plt.figure(figsize=(10,5))\n",
    "sns.barplot(popularity['Popularity'].head(10),popularity['Title'].head(10));\n",
    "plt.xlim(0, 500)\n",
    "plt.title('Best Movies by Popularity', weight='bold')\n",
    "plt.xlabel('Popularity', weight='bold')\n",
    "plt.ylabel('Movie Title', weight='bold')\n",
    "plt.savefig('Popularity.png')"
   ]
  },
  {
   "cell_type": "markdown",
   "metadata": {},
   "source": [
    "__Giving 50-50 % Importance to both 'Average_weighted_ratings' and 'Popularity' .__"
   ]
  },
  {
   "cell_type": "code",
   "execution_count": 49,
   "metadata": {
    "ExecuteTime": {
     "end_time": "2021-04-04T15:30:48.323391Z",
     "start_time": "2021-04-04T15:30:48.292167Z"
    }
   },
   "outputs": [
    {
     "data": {
      "text/html": [
       "<div>\n",
       "<style scoped>\n",
       "    .dataframe tbody tr th:only-of-type {\n",
       "        vertical-align: middle;\n",
       "    }\n",
       "\n",
       "    .dataframe tbody tr th {\n",
       "        vertical-align: top;\n",
       "    }\n",
       "\n",
       "    .dataframe thead th {\n",
       "        text-align: right;\n",
       "    }\n",
       "</style>\n",
       "<table border=\"1\" class=\"dataframe\">\n",
       "  <thead>\n",
       "    <tr style=\"text-align: right;\">\n",
       "      <th></th>\n",
       "      <th>0</th>\n",
       "      <th>1</th>\n",
       "    </tr>\n",
       "  </thead>\n",
       "  <tbody>\n",
       "    <tr>\n",
       "      <th>0</th>\n",
       "      <td>1.000000</td>\n",
       "      <td>0.405654</td>\n",
       "    </tr>\n",
       "    <tr>\n",
       "      <th>1</th>\n",
       "      <td>0.692618</td>\n",
       "      <td>0.614004</td>\n",
       "    </tr>\n",
       "    <tr>\n",
       "      <th>2</th>\n",
       "      <td>0.527234</td>\n",
       "      <td>0.604192</td>\n",
       "    </tr>\n",
       "    <tr>\n",
       "      <th>3</th>\n",
       "      <td>0.455833</td>\n",
       "      <td>0.614800</td>\n",
       "    </tr>\n",
       "    <tr>\n",
       "      <th>4</th>\n",
       "      <td>0.408266</td>\n",
       "      <td>0.512949</td>\n",
       "    </tr>\n",
       "  </tbody>\n",
       "</table>\n",
       "</div>"
      ],
      "text/plain": [
       "          0         1\n",
       "0  1.000000  0.405654\n",
       "1  0.692618  0.614004\n",
       "2  0.527234  0.604192\n",
       "3  0.455833  0.614800\n",
       "4  0.408266  0.512949"
      ]
     },
     "execution_count": 49,
     "metadata": {},
     "output_type": "execute_result"
    }
   ],
   "source": [
    "from sklearn.preprocessing import MinMaxScaler\n",
    "mms=MinMaxScaler()\n",
    "normalized=pd.DataFrame(mms.fit_transform(movies.loc[:,['Popularity','Average_weighted_ratings']]))\n",
    "normalized.head()"
   ]
  },
  {
   "cell_type": "code",
   "execution_count": 50,
   "metadata": {
    "ExecuteTime": {
     "end_time": "2021-04-04T15:31:05.899539Z",
     "start_time": "2021-04-04T15:31:05.883902Z"
    }
   },
   "outputs": [],
   "source": [
    "movies['Equal_importance']=normalized[0]*0.5 + normalized[1]*0.5"
   ]
  },
  {
   "cell_type": "markdown",
   "metadata": {
    "ExecuteTime": {
     "end_time": "2021-04-04T15:32:08.107858Z",
     "start_time": "2021-04-04T15:32:08.076609Z"
    }
   },
   "source": [
    "__Arranging them in order of high to low thier popularity and ratings.__"
   ]
  },
  {
   "cell_type": "code",
   "execution_count": 19,
   "metadata": {
    "ExecuteTime": {
     "end_time": "2021-04-04T15:05:20.236787Z",
     "start_time": "2021-04-04T15:05:20.086443Z"
    }
   },
   "outputs": [],
   "source": [
    "Equal_importance=movies.sort_values('Equal_importance',ascending=False)"
   ]
  },
  {
   "cell_type": "code",
   "execution_count": 52,
   "metadata": {
    "ExecuteTime": {
     "end_time": "2021-04-04T15:32:22.245771Z",
     "start_time": "2021-04-04T15:32:22.198878Z"
    }
   },
   "outputs": [
    {
     "data": {
      "text/html": [
       "<div>\n",
       "<style scoped>\n",
       "    .dataframe tbody tr th:only-of-type {\n",
       "        vertical-align: middle;\n",
       "    }\n",
       "\n",
       "    .dataframe tbody tr th {\n",
       "        vertical-align: top;\n",
       "    }\n",
       "\n",
       "    .dataframe thead th {\n",
       "        text-align: right;\n",
       "    }\n",
       "</style>\n",
       "<table border=\"1\" class=\"dataframe\">\n",
       "  <thead>\n",
       "    <tr style=\"text-align: right;\">\n",
       "      <th></th>\n",
       "      <th>Popularity</th>\n",
       "      <th>Votes</th>\n",
       "      <th>Title</th>\n",
       "      <th>Ratings</th>\n",
       "      <th>Overview</th>\n",
       "      <th>Release_Date</th>\n",
       "      <th>Average_weighted_ratings</th>\n",
       "      <th>Equal_importance</th>\n",
       "    </tr>\n",
       "  </thead>\n",
       "  <tbody>\n",
       "    <tr>\n",
       "      <th>0</th>\n",
       "      <td>453.361</td>\n",
       "      <td>2875</td>\n",
       "      <td>Ad Astra</td>\n",
       "      <td>5.9</td>\n",
       "      <td>The near future, a time when both hope and har...</td>\n",
       "      <td>2019-09-17</td>\n",
       "      <td>6.006981</td>\n",
       "      <td>0.702827</td>\n",
       "    </tr>\n",
       "    <tr>\n",
       "      <th>1</th>\n",
       "      <td>315.622</td>\n",
       "      <td>2653</td>\n",
       "      <td>Bad Boys for Life</td>\n",
       "      <td>7.1</td>\n",
       "      <td>Marcus and Mike are forced to confront new thr...</td>\n",
       "      <td>2020-01-15</td>\n",
       "      <td>6.904895</td>\n",
       "      <td>0.653311</td>\n",
       "    </tr>\n",
       "    <tr>\n",
       "      <th>2</th>\n",
       "      <td>241.513</td>\n",
       "      <td>1419</td>\n",
       "      <td>Bloodshot</td>\n",
       "      <td>7.2</td>\n",
       "      <td>After he and his wife are murdered, marine Ray...</td>\n",
       "      <td>2020-03-05</td>\n",
       "      <td>6.862611</td>\n",
       "      <td>0.565713</td>\n",
       "    </tr>\n",
       "    <tr>\n",
       "      <th>20</th>\n",
       "      <td>100.558</td>\n",
       "      <td>6106</td>\n",
       "      <td>Parasite</td>\n",
       "      <td>8.5</td>\n",
       "      <td>All unemployed, Ki-taek's family takes peculia...</td>\n",
       "      <td>2019-05-30</td>\n",
       "      <td>8.217649</td>\n",
       "      <td>0.565643</td>\n",
       "    </tr>\n",
       "    <tr>\n",
       "      <th>64</th>\n",
       "      <td>54.549</td>\n",
       "      <td>15551</td>\n",
       "      <td>The Shawshank Redemption</td>\n",
       "      <td>8.7</td>\n",
       "      <td>Framed in the 1940s for the double murder of h...</td>\n",
       "      <td>1994-09-23</td>\n",
       "      <td>8.568408</td>\n",
       "      <td>0.555000</td>\n",
       "    </tr>\n",
       "    <tr>\n",
       "      <th>44</th>\n",
       "      <td>83.528</td>\n",
       "      <td>17457</td>\n",
       "      <td>Avengers: Infinity War</td>\n",
       "      <td>8.3</td>\n",
       "      <td>As the Avengers and their allies have continue...</td>\n",
       "      <td>2018-04-25</td>\n",
       "      <td>8.202062</td>\n",
       "      <td>0.544832</td>\n",
       "    </tr>\n",
       "    <tr>\n",
       "      <th>24</th>\n",
       "      <td>95.498</td>\n",
       "      <td>10980</td>\n",
       "      <td>Joker</td>\n",
       "      <td>8.2</td>\n",
       "      <td>During the 1980s, a failed stand-up comedian i...</td>\n",
       "      <td>2019-10-02</td>\n",
       "      <td>8.056474</td>\n",
       "      <td>0.541297</td>\n",
       "    </tr>\n",
       "    <tr>\n",
       "      <th>39</th>\n",
       "      <td>78.162</td>\n",
       "      <td>21624</td>\n",
       "      <td>Interstellar</td>\n",
       "      <td>8.3</td>\n",
       "      <td>Interstellar chronicles the adventures of a gr...</td>\n",
       "      <td>2014-11-05</td>\n",
       "      <td>8.220165</td>\n",
       "      <td>0.540945</td>\n",
       "    </tr>\n",
       "    <tr>\n",
       "      <th>154</th>\n",
       "      <td>43.202</td>\n",
       "      <td>11795</td>\n",
       "      <td>The Godfather</td>\n",
       "      <td>8.7</td>\n",
       "      <td>Spanning the years 1945 to 1955, a chronicle o...</td>\n",
       "      <td>1972-03-14</td>\n",
       "      <td>8.529533</td>\n",
       "      <td>0.537828</td>\n",
       "    </tr>\n",
       "    <tr>\n",
       "      <th>5</th>\n",
       "      <td>192.374</td>\n",
       "      <td>2130</td>\n",
       "      <td>Sonic the Hedgehog</td>\n",
       "      <td>7.4</td>\n",
       "      <td>Based on the global blockbuster videogame fran...</td>\n",
       "      <td>2020-02-12</td>\n",
       "      <td>7.081005</td>\n",
       "      <td>0.536221</td>\n",
       "    </tr>\n",
       "  </tbody>\n",
       "</table>\n",
       "</div>"
      ],
      "text/plain": [
       "     Popularity  Votes                     Title  Ratings  \\\n",
       "0       453.361   2875                  Ad Astra      5.9   \n",
       "1       315.622   2653         Bad Boys for Life      7.1   \n",
       "2       241.513   1419                 Bloodshot      7.2   \n",
       "20      100.558   6106                  Parasite      8.5   \n",
       "64       54.549  15551  The Shawshank Redemption      8.7   \n",
       "44       83.528  17457    Avengers: Infinity War      8.3   \n",
       "24       95.498  10980                     Joker      8.2   \n",
       "39       78.162  21624              Interstellar      8.3   \n",
       "154      43.202  11795             The Godfather      8.7   \n",
       "5       192.374   2130        Sonic the Hedgehog      7.4   \n",
       "\n",
       "                                              Overview Release_Date  \\\n",
       "0    The near future, a time when both hope and har...   2019-09-17   \n",
       "1    Marcus and Mike are forced to confront new thr...   2020-01-15   \n",
       "2    After he and his wife are murdered, marine Ray...   2020-03-05   \n",
       "20   All unemployed, Ki-taek's family takes peculia...   2019-05-30   \n",
       "64   Framed in the 1940s for the double murder of h...   1994-09-23   \n",
       "44   As the Avengers and their allies have continue...   2018-04-25   \n",
       "24   During the 1980s, a failed stand-up comedian i...   2019-10-02   \n",
       "39   Interstellar chronicles the adventures of a gr...   2014-11-05   \n",
       "154  Spanning the years 1945 to 1955, a chronicle o...   1972-03-14   \n",
       "5    Based on the global blockbuster videogame fran...   2020-02-12   \n",
       "\n",
       "     Average_weighted_ratings  Equal_importance  \n",
       "0                    6.006981          0.702827  \n",
       "1                    6.904895          0.653311  \n",
       "2                    6.862611          0.565713  \n",
       "20                   8.217649          0.565643  \n",
       "64                   8.568408          0.555000  \n",
       "44                   8.202062          0.544832  \n",
       "24                   8.056474          0.541297  \n",
       "39                   8.220165          0.540945  \n",
       "154                  8.529533          0.537828  \n",
       "5                    7.081005          0.536221  "
      ]
     },
     "execution_count": 52,
     "metadata": {},
     "output_type": "execute_result"
    }
   ],
   "source": [
    "Equal_importance.head(10)"
   ]
  },
  {
   "cell_type": "markdown",
   "metadata": {},
   "source": [
    "# Top 10 Movies according to Equal weightage to rating and popularity."
   ]
  },
  {
   "cell_type": "code",
   "execution_count": 56,
   "metadata": {
    "ExecuteTime": {
     "end_time": "2021-04-04T17:17:18.033166Z",
     "start_time": "2021-04-04T17:17:17.439406Z"
    }
   },
   "outputs": [
    {
     "name": "stderr",
     "output_type": "stream",
     "text": [
      "C:\\ProgramData\\Anaconda3\\lib\\site-packages\\seaborn\\_decorators.py:36: FutureWarning: Pass the following variables as keyword args: x, y. From version 0.12, the only valid positional argument will be `data`, and passing other arguments without an explicit keyword will result in an error or misinterpretation.\n",
      "  warnings.warn(\n"
     ]
    },
    {
     "data": {
      "image/png": "[encoded data removed]",
      "text/plain": [
       "<Figure size 720x360 with 1 Axes>"
      ]
     },
     "metadata": {
      "needs_background": "light"
     },
     "output_type": "display_data"
    }
   ],
   "source": [
    "plt.figure(figsize=(10,5))\n",
    "sns.barplot(Equal_importance['Equal_importance'].head(10),Equal_importance['Title'].head(10));\n",
    "plt.xlim(0, 1)\n",
    "plt.title('Movies with highest Equal weightage of rating and popularity', weight='bold')\n",
    "plt.xlabel('Equal_importance', weight='bold')\n",
    "plt.ylabel('Movie Title', weight='bold')\n",
    "plt.savefig('Best Movies with Popularity and Rating.png')"
   ]
  }
 ],
 "metadata": {
  "kernelspec": {
   "display_name": "Python 3",
   "language": "python",
   "name": "python3"
  },
  "language_info": {
   "codemirror_mode": {
    "name": "ipython",
    "version": 3
   },
   "file_extension": ".py",
   "mimetype": "text/x-python",
   "name": "python",
   "nbconvert_exporter": "python",
   "pygments_lexer": "ipython3",
   "version": "3.8.5"
  },
  "latex_envs": {
   "LaTeX_envs_menu_present": true,
   "autoclose": false,
   "autocomplete": true,
   "bibliofile": "biblio.bib",
   "cite_by": "apalike",
   "current_citInitial": 1,
   "eqLabelWithNumbers": true,
   "eqNumInitial": 1,
   "hotkeys": {
    "equation": "Ctrl-E",
    "itemize": "Ctrl-I"
   },
   "labels_anchors": false,
   "latex_user_defs": false,
   "report_style_numbering": false,
   "user_envs_cfg": false
  }
 },
 "nbformat": 4,
 "nbformat_minor": 4
}
